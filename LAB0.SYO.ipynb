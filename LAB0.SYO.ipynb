{
 "cells": [
  {
   "cell_type": "markdown",
   "id": "97f4de60-acc2-451e-a532-08fc264321a6",
   "metadata": {},
   "source": [
    "# **Норвегія**  \n",
    "![Норвегія](https://upload.wikimedia.org/wikipedia/commons/thumb/d/d9/Flag_of_Norway.svg/320px-Flag_of_Norway.svg.png)\n",
    "\n",
    "## Загальна інформація\n",
    "\n",
    "- **Офіційна назва**: Королівство Норвегія\n",
    "- **Столиця**: Осло\n",
    "- **Площа**: <span style=\"color:blue;\">385,207 км²</span>\n",
    "- **Населення**: 5.4 мільйона (станом на 2024 рік)\n",
    "- **Державний устрій**: Конституційна монархія\n",
    "\n",
    "---\n",
    "\n",
    "## Видатні персоналії\n",
    "\n",
    "<div style=\"border: 2px solid black; padding: 10px;\">\n",
    "    1. *Генрік Ібсен* – знаменитий драматург.\n",
    "    2. *Едвард Мунк* – всесвітньо відомий художник, автор \"Крику\".\n",
    "    3. *Тур Хейєрдал* – норвезький етнограф і мандрівник, відомий завдяки експедиції на Кон-Тікі.\n",
    "</div>\n",
    "\n",
    "---\n",
    "\n",
    "## Пам'ятки культури та природи\n",
    "- **Культурні пам'ятки**:\n",
    "    - Музей кораблів вікінгів в Осло\n",
    "    - Королівський палац у Осло\n",
    "- **Природні пам'ятки**:\n",
    "    - **Фіорди** Норвегії: Гейрангерфіорд, Согнефіорд\n",
    "    - Льодовик **Йостедальсбреен**\n",
    "\n",
    "---\n",
    "\n",
    "## Таблиця з основною інформацією про країну:\n",
    "\n",
    "| **Категорія**          | **Інформація**                |\n",
    "|------------------------|-------------------------------|\n",
    "| **Столиця**            | Осло                          |\n",
    "| **Офіційна мова**      | Норвезька                     |\n",
    "| **Форма правління**    | Конституційна монархія        |\n",
    "| **Площа**              | 385,207 км²                   |\n",
    "| **Населення**          | 5.4 мільйона                  |\n",
    "\n",
    "---\n",
    "\n",
    "## Вкладений список:\n",
    "\n",
    "- **Основні галузі економіки**:\n",
    "    1. Нафтова та газова промисловість\n",
    "    2. Суднобудування\n",
    "    3. Рибальство\n",
    "        - Лосось\n",
    "        - Тріска\n",
    "        - Оселедець\n",
    "    4. Туризм\n",
    "\n",
    "---\n",
    "\n",
    "## Вбудовані картинки:\n",
    "![Фіорди Норвегії](https://nordictravel.ua/image/data/inspiration/norway/gera2min.jpg)\n",
    "\n",
    "---\n",
    "\n",
    "## Гіперпосилання:\n",
    "- [Більше про Норвегію на Wikipedia](https://uk.wikipedia.org/wiki/Норвегія)\n",
    "\n",
    "---\n",
    "\n",
    "## Картинка за допомогою посилання:\n",
    "\n",
    "Картинка за посиланням:\n",
    "\n",
    "[Краєвиди Норвегії](https://travelland.com.ua/wp-content/uploads/2019/05/yazyk_trollya_0_0.jpg)\n",
    "\n",
    "\n"
   ]
  },
  {
   "cell_type": "code",
   "execution_count": 36,
   "id": "7756a8c1-c6d8-49e9-95f6-6a176fc173b9",
   "metadata": {},
   "outputs": [
    {
     "data": {
      "image/svg+xml": [
       "<svg xmlns=\"http://www.w3.org/2000/svg\" width=\"240\" height=\"160\">\n",
       "  <rect width=\"240\" height=\"160\" fill=\"#002868\"/>\n",
       "  <rect width=\"48\" height=\"160\" x=\"72\" fill=\"#ffffff\"/>\n",
       "  <rect width=\"240\" height=\"48\" y=\"56\" fill=\"#ffffff\"/>\n",
       "  <rect width=\"30\" height=\"160\" x=\"78\" fill=\"#d72828\"/>\n",
       "  <rect width=\"240\" height=\"30\" y=\"65\" fill=\"#d72828\"/>\n",
       "</svg>"
      ],
      "text/plain": [
       "<IPython.core.display.SVG object>"
      ]
     },
     "metadata": {},
     "output_type": "display_data"
    }
   ],
   "source": [
    "from IPython.display import SVG, display\n",
    "\n",
    "svg_code = '''\n",
    "<svg width=\"240\" height=\"160\" xmlns=\"http://www.w3.org/2000/svg\">\n",
    "  <rect width=\"240\" height=\"160\" fill=\"#002868\"/>\n",
    "  <rect width=\"48\" height=\"160\" x=\"72\" fill=\"#ffffff\"/>\n",
    "  <rect width=\"240\" height=\"48\" y=\"56\" fill=\"#ffffff\"/>\n",
    "  <rect width=\"30\" height=\"160\" x=\"78\" fill=\"#d72828\"/>\n",
    "  <rect width=\"240\" height=\"30\" y=\"65\" fill=\"#d72828\"/>\n",
    "</svg>\n",
    "'''\n",
    "display(SVG(svg_code))\n"
   ]
  },
  {
   "cell_type": "code",
   "execution_count": 38,
   "id": "52a77f68-6a80-4a50-8102-fa5157e00c8d",
   "metadata": {},
   "outputs": [
    {
     "name": "stdout",
     "output_type": "stream",
     "text": [
      "25 є сумою квадратів: 3^2 + 4^2\n",
      "50 є сумою квадратів: 1^2 + 7^2\n",
      "7 не можна представити як суму двох квадратів натуральних чисел.\n"
     ]
    }
   ],
   "source": [
    "import math\n",
    "\n",
    "def is_sum_of_squares(N):\n",
    "    # Перевірка чи є число натуральним\n",
    "    if N <= 0 or not isinstance(N, int):\n",
    "        return \"Помилка: число повинно бути натуральним!\"\n",
    "\n",
    "    # Шукаємо a і b, що a^2 + b^2 = N\n",
    "    for a in range(1, int(math.sqrt(N)) + 1):\n",
    "        b = math.sqrt(N - a**2)\n",
    "        if b.is_integer():\n",
    "            return f\"{N} є сумою квадратів: {a}^2 + {int(b)}^2\"\n",
    "    \n",
    "    return f\"{N} не можна представити як суму двох квадратів натуральних чисел.\"\n",
    "\n",
    "# приклади\n",
    "print(is_sum_of_squares(25))\n",
    "print(is_sum_of_squares(50))\n",
    "print(is_sum_of_squares(7))\n"
   ]
  },
  {
   "cell_type": "code",
   "execution_count": null,
   "id": "5d3712dc-0adc-439b-9829-70d7db33501f",
   "metadata": {},
   "outputs": [],
   "source": []
  }
 ],
 "metadata": {
  "kernelspec": {
   "display_name": "Python 3 (ipykernel)",
   "language": "python",
   "name": "python3"
  },
  "language_info": {
   "codemirror_mode": {
    "name": "ipython",
    "version": 3
   },
   "file_extension": ".py",
   "mimetype": "text/x-python",
   "name": "python",
   "nbconvert_exporter": "python",
   "pygments_lexer": "ipython3",
   "version": "3.12.4"
  }
 },
 "nbformat": 4,
 "nbformat_minor": 5
}
